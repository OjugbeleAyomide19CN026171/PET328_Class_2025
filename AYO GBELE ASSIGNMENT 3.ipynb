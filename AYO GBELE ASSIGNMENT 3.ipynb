{
 "cells": [
  {
   "cell_type": "markdown",
   "id": "c3e87412",
   "metadata": {},
   "source": [
    "## A script to classify and count 'active' and 'inactive' gridblocks in a discretized reservoir"
   ]
  },
  {
   "cell_type": "code",
   "execution_count": null,
   "id": "a53afb20",
   "metadata": {},
   "outputs": [],
   "source": [
    "#################### Task 1 ############################\n",
    "    # Request for reservoir dimensions and discretization parameters\n",
    "lx = float(input('what is the length of reservoir on x axis?'))\n",
    "ly = float(input('what is the length of reservoir on y axis?'))\n",
    "lz = float(input('what is the depth of the reservior?'))\n",
    "nx = int(input('what is the number of gridblock on x axis?'))\n",
    "ny = int(input('what is the number of gridblock on y axis?'))\n",
    "nz = int(input('What is the number of gridblock on z axis?'))\n"
   ]
  },
  {
   "cell_type": "code",
   "execution_count": null,
   "id": "559de93e",
   "metadata": {},
   "outputs": [],
   "source": [
    "\n",
    "\n",
    "#################### Task 2 ############################\n",
    "    # Request for the cut-off value\n",
    "cut_off = float(input('what is the permeability cut-off value?'))"
   ]
  },
  {
   "cell_type": "code",
   "execution_count": null,
   "id": "81bee451",
   "metadata": {},
   "outputs": [],
   "source": [
    "#################### Task 3 ############################\n",
    "    # Initialize counters\n",
    "n_active = 0\n",
    "n_inactive = 0\n"
   ]
  },
  {
   "cell_type": "code",
   "execution_count": null,
   "id": "dd77006a",
   "metadata": {},
   "outputs": [],
   "source": [
    "#################### Task 4 ############################\n",
    "    # Loop through all blocks (nested loop)\n",
    "for k in range(1, nz+1):\n",
    "    # Initialize layer counter\n",
    "    n_nactive = 0\n",
    "    n_ninactive = 0\n",
    "    \n",
    "    # two nested loops go here\n",
    "    for row in range(1,ny + 1):\n",
    "        for col in range(1,nx + 1):\n",
    "            nat_order = (col + ((row - 1) * nx)) + ((k - 1) * nx * ny)\n",
    "            print(f' currently working on gridblock {nat_order}\\n')\n",
    "            perm = float(input(f'what is the permeability of gridblock {nat_order}?'))\n",
    "            if perm < cut_off:\n",
    "                 n_inactive = n_inactive + 1\n",
    "                 n_ninactive = n_ninactive + 1\n",
    "                 print('this gridblock is inactive')\n",
    "\n",
    "            else:\n",
    "                 n_active = n_active + 1\n",
    "                 n_nactive = n_nactive + 1\n",
    "                 print('the gridblock is active')\n",
    "\n",
    "    # Print layer count\n",
    "    print(f' there is/are {n_nactive} active gridblock in layer {k}\\n')\n",
    "    print(f' there is/are {n_ninactive} inactive gridblock in layer {k}\\n')\n",
    "\n"
   ]
  },
  {
   "cell_type": "code",
   "execution_count": null,
   "id": "ec00ce2a",
   "metadata": {},
   "outputs": [],
   "source": [
    "#################### Task 5 ############################\n",
    "    # Print overall counts\n",
    "\n",
    "# Print 'active'\n",
    "print(f' there is/are {n_active} active gridblocks in the reservoir')\n",
    "\n",
    "# Print 'inactive'\n",
    "print(f'there is/are {n_inactive} inactive gridblocks in the reservoir')\n"
   ]
  },
  {
   "cell_type": "code",
   "execution_count": null,
   "id": "5bed07ce-e064-45ae-81f2-30176a50a8e2",
   "metadata": {},
   "outputs": [],
   "source": [
    "total_grid = nx * ny * nz\n",
    "\n",
    "per_active = (n_active/total_grid) * 100\n",
    "print (f' the percentage of active gridblock is {round(per_active,2)}%')"
   ]
  },
  {
   "cell_type": "code",
   "execution_count": null,
   "id": "f9191b33-c3e0-4fc5-a2c8-578c8bfee2c0",
   "metadata": {},
   "outputs": [],
   "source": []
  }
 ],
 "metadata": {
  "kernelspec": {
   "display_name": "Python 3 (ipykernel)",
   "language": "python",
   "name": "python3"
  },
  "language_info": {
   "codemirror_mode": {
    "name": "ipython",
    "version": 3
   },
   "file_extension": ".py",
   "mimetype": "text/x-python",
   "name": "python",
   "nbconvert_exporter": "python",
   "pygments_lexer": "ipython3",
   "version": "3.12.7"
  }
 },
 "nbformat": 4,
 "nbformat_minor": 5
}
